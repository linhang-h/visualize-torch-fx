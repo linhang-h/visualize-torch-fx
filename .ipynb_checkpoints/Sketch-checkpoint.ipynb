{
 "cells": [
  {
   "cell_type": "code",
   "execution_count": 1,
   "id": "83e0550b-4d0c-40e0-b407-3f744a76f8f1",
   "metadata": {},
   "outputs": [
    {
     "name": "stdout",
     "output_type": "stream",
     "text": [
      "graph():\n",
      "    %x : [num_users=1] = placeholder[target=x]\n",
      "    %param : [num_users=1] = get_attr[target=param]\n",
      "    %add : [num_users=1] = call_function[target=operator.add](args = (%x, %param), kwargs = {})\n",
      "    %linear : [num_users=1] = call_module[target=linear](args = (%add,), kwargs = {})\n",
      "    %clamp : [num_users=1] = call_method[target=clamp](args = (%linear,), kwargs = {min: 0.0, max: 1.0})\n",
      "    return clamp\n"
     ]
    }
   ],
   "source": [
    "import torch\n",
    "# Simple module for demonstration\n",
    "class MyModule(torch.nn.Module):\n",
    "    def __init__(self) -> None:\n",
    "        super().__init__()\n",
    "        self.param = torch.nn.Parameter(torch.rand(3, 4))\n",
    "        self.linear = torch.nn.Linear(4, 5)\n",
    "\n",
    "    def forward(self, x):\n",
    "        return self.linear(x + self.param).clamp(min=0.0, max=1.0)\n",
    "\n",
    "module = MyModule()\n",
    "\n",
    "from torch.fx import symbolic_trace\n",
    "# Symbolic tracing frontend - captures the semantics of the module\n",
    "symbolic_traced : torch.fx.GraphModule = symbolic_trace(module)\n",
    "\n",
    "# High-level intermediate representation (IR) - Graph representation\n",
    "print(symbolic_traced.graph)"
   ]
  },
  {
   "cell_type": "code",
   "execution_count": 10,
   "id": "fc6c36cf-3253-4942-a030-08dcd744eb57",
   "metadata": {},
   "outputs": [],
   "source": [
    "node = list(symbolic_traced.graph.nodes)[3]"
   ]
  },
  {
   "cell_type": "code",
   "execution_count": 15,
   "id": "f591e241-d28e-47a0-b594-5d9874ec067f",
   "metadata": {},
   "outputs": [
    {
     "data": {
      "text/plain": [
       "'linear'"
      ]
     },
     "execution_count": 15,
     "metadata": {},
     "output_type": "execute_result"
    }
   ],
   "source": [
    "node.target"
   ]
  },
  {
   "cell_type": "code",
   "execution_count": 16,
   "id": "aeb75d18-dc52-4221-9a8a-fb2ee545d9c4",
   "metadata": {},
   "outputs": [],
   "source": [
    "py_obj = getattr(symbolic_traced, node.target)"
   ]
  },
  {
   "cell_type": "code",
   "execution_count": 26,
   "id": "92e07bb7-bedf-4f07-a39b-f3f81efc9b8a",
   "metadata": {},
   "outputs": [
    {
     "data": {
      "text/plain": [
       "Linear(in_features=4, out_features=5, bias=True)"
      ]
     },
     "execution_count": 26,
     "metadata": {},
     "output_type": "execute_result"
    }
   ],
   "source": [
    "py_obj"
   ]
  },
  {
   "cell_type": "code",
   "execution_count": null,
   "id": "7fb802fc-78e6-44ef-8f52-d98e00745393",
   "metadata": {},
   "outputs": [],
   "source": []
  }
 ],
 "metadata": {
  "kernelspec": {
   "display_name": "Python 3 (ipykernel)",
   "language": "python",
   "name": "python3"
  },
  "language_info": {
   "codemirror_mode": {
    "name": "ipython",
    "version": 3
   },
   "file_extension": ".py",
   "mimetype": "text/x-python",
   "name": "python",
   "nbconvert_exporter": "python",
   "pygments_lexer": "ipython3",
   "version": "3.12.7"
  }
 },
 "nbformat": 4,
 "nbformat_minor": 5
}
