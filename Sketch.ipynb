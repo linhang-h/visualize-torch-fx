{
 "cells": [
  {
   "cell_type": "code",
   "execution_count": 1,
   "id": "83e0550b-4d0c-40e0-b407-3f744a76f8f1",
   "metadata": {},
   "outputs": [],
   "source": [
    "import torch_serialize\n",
    "import torch"
   ]
  },
  {
   "cell_type": "code",
   "execution_count": 2,
   "id": "fc6c36cf-3253-4942-a030-08dcd744eb57",
   "metadata": {},
   "outputs": [
    {
     "name": "stdout",
     "output_type": "stream",
     "text": [
      "Hierarchical model serialized to hierarchical_model.json\n"
     ]
    }
   ],
   "source": [
    "class SubModule(torch.nn.Module):\n",
    "    def __init__(self):\n",
    "        super().__init__()\n",
    "        self.fc = torch.nn.Linear(3, 2)\n",
    "        self.relu = torch.nn.ReLU()\n",
    "\n",
    "    def forward(self, x):\n",
    "        return self.relu(self.fc(x))\n",
    "\n",
    "class HierarchicalModel(torch.nn.Module):\n",
    "    def __init__(self):\n",
    "        super().__init__()\n",
    "        self.block1 = SubModule()\n",
    "        self.block2 = torch.nn.Sequential(\n",
    "            torch.nn.Conv2d(1, 16, kernel_size=3),\n",
    "            torch.nn.ReLU()\n",
    "        )\n",
    "\n",
    "    def forward(self, x):\n",
    "        out1 = self.block1(x+3)\n",
    "        out2 = self.block2(out1.unsqueeze(1).unsqueeze(2))  # Adjust for Conv2d\n",
    "        return out2\n",
    "\n",
    "# Create the model\n",
    "model = HierarchicalModel()\n",
    "data = torch_serialize.serialize_graph(model, \"hierarchical_model.json\")"
   ]
  },
  {
   "cell_type": "code",
   "execution_count": 3,
   "id": "7fb802fc-78e6-44ef-8f52-d98e00745393",
   "metadata": {},
   "outputs": [
    {
     "data": {
      "text/plain": [
       "{'name': 'root',\n",
       " 'is_standard_nn': False,\n",
       " 'graph': [{'name': 'x',\n",
       "   'op': 'placeholder',\n",
       "   'target': 'x',\n",
       "   'args': [],\n",
       "   'kwargs': {}},\n",
       "  {'name': 'add',\n",
       "   'op': 'call_function',\n",
       "   'target': '<built-in function add>',\n",
       "   'args': ['x', '3'],\n",
       "   'kwargs': {}},\n",
       "  {'name': 'block1',\n",
       "   'op': 'call_module',\n",
       "   'target': 'block1',\n",
       "   'args': ['add'],\n",
       "   'kwargs': {}},\n",
       "  {'name': 'unsqueeze',\n",
       "   'op': 'call_method',\n",
       "   'target': 'unsqueeze',\n",
       "   'args': ['block1', '1'],\n",
       "   'kwargs': {}},\n",
       "  {'name': 'unsqueeze_1',\n",
       "   'op': 'call_method',\n",
       "   'target': 'unsqueeze',\n",
       "   'args': ['unsqueeze', '2'],\n",
       "   'kwargs': {}},\n",
       "  {'name': 'block2',\n",
       "   'op': 'call_module',\n",
       "   'target': 'block2',\n",
       "   'args': ['unsqueeze_1'],\n",
       "   'kwargs': {}},\n",
       "  {'name': 'output',\n",
       "   'op': 'output',\n",
       "   'target': 'output',\n",
       "   'args': ['block2'],\n",
       "   'kwargs': {}}],\n",
       " 'children': {'block1': {'name': 'block1',\n",
       "   'is_standard_nn': False,\n",
       "   'graph': [{'name': 'x',\n",
       "     'op': 'placeholder',\n",
       "     'target': 'x',\n",
       "     'args': [],\n",
       "     'kwargs': {}},\n",
       "    {'name': 'fc',\n",
       "     'op': 'call_module',\n",
       "     'target': 'fc',\n",
       "     'args': ['x'],\n",
       "     'kwargs': {}},\n",
       "    {'name': 'relu',\n",
       "     'op': 'call_module',\n",
       "     'target': 'relu',\n",
       "     'args': ['fc'],\n",
       "     'kwargs': {}},\n",
       "    {'name': 'output',\n",
       "     'op': 'output',\n",
       "     'target': 'output',\n",
       "     'args': ['relu'],\n",
       "     'kwargs': {}}],\n",
       "   'children': {'fc': {'name': 'block1.fc',\n",
       "     'is_standard_nn': True,\n",
       "     'info': {'module_class': 'torch.nn.modules.linear.Linear',\n",
       "      'attributes': {'call_super_init': 'False',\n",
       "       'dump_patches': 'False',\n",
       "       'in_features': '3',\n",
       "       'out_features': '2',\n",
       "       'training': 'True'}}},\n",
       "    'relu': {'name': 'block1.relu',\n",
       "     'is_standard_nn': True,\n",
       "     'info': {'module_class': 'torch.nn.modules.activation.ReLU',\n",
       "      'attributes': {'call_super_init': 'False',\n",
       "       'dump_patches': 'False',\n",
       "       'inplace': 'False',\n",
       "       'training': 'True'}}}}},\n",
       "  'block2': {'name': 'block2',\n",
       "   'is_standard_nn': True,\n",
       "   'info': {'module_class': 'torch.nn.modules.container.Sequential',\n",
       "    'attributes': {'call_super_init': 'False',\n",
       "     'dump_patches': 'False',\n",
       "     'training': 'True'}}}}}"
      ]
     },
     "execution_count": 3,
     "metadata": {},
     "output_type": "execute_result"
    }
   ],
   "source": [
    "data"
   ]
  },
  {
   "cell_type": "code",
   "execution_count": 29,
   "id": "9b0b31fd-8d75-40f5-a9c3-219290a4f714",
   "metadata": {},
   "outputs": [
    {
     "data": {
      "text/plain": [
       "<function _operator.add(a, b, /)>"
      ]
     },
     "execution_count": 29,
     "metadata": {},
     "output_type": "execute_result"
    }
   ],
   "source": [
    "traced_graph = torch_serialize.BasicTracer().trace(model)\n",
    "node = list(traced_graph.nodes)[1]\n",
    "node.target"
   ]
  },
  {
   "cell_type": "code",
   "execution_count": null,
   "id": "aeca5cbd-192e-4c91-9a56-a0177703ea55",
   "metadata": {},
   "outputs": [],
   "source": [
    "model.state_d"
   ]
  }
 ],
 "metadata": {
  "kernelspec": {
   "display_name": "Python 3 (ipykernel)",
   "language": "python",
   "name": "python3"
  },
  "language_info": {
   "codemirror_mode": {
    "name": "ipython",
    "version": 3
   },
   "file_extension": ".py",
   "mimetype": "text/x-python",
   "name": "python",
   "nbconvert_exporter": "python",
   "pygments_lexer": "ipython3",
   "version": "3.12.7"
  }
 },
 "nbformat": 4,
 "nbformat_minor": 5
}
